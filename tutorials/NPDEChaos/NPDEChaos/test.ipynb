{
 "cells": [
  {
   "cell_type": "code",
   "execution_count": 2,
   "metadata": {},
   "outputs": [
    {
     "name": "stderr",
     "output_type": "stream",
     "text": [
      "\u001b[32m\u001b[1m    Updating\u001b[22m\u001b[39m registry at `~/anaconda3/envs/julia_env/share/julia/registries/General.toml`\n",
      "\u001b[32m\u001b[1m   Resolving\u001b[22m\u001b[39m package versions...\n",
      "\u001b[32m\u001b[1m   Installed\u001b[22m\u001b[39m JLD2 ─── v0.4.31\n",
      "\u001b[32m\u001b[1m   Installed\u001b[22m\u001b[39m FileIO ─ v1.16.0\n",
      "\u001b[32m\u001b[1m    Updating\u001b[22m\u001b[39m `~/anaconda3/envs/julia_env/share/julia/environments/julia_env/Project.toml`\n",
      " \u001b[90m [033835bb] \u001b[39m\u001b[92m+ JLD2 v0.4.31\u001b[39m\n",
      "\u001b[32m\u001b[1m    Updating\u001b[22m\u001b[39m `~/anaconda3/envs/julia_env/share/julia/environments/julia_env/Manifest.toml`\n",
      " \u001b[90m [5789e2e9] \u001b[39m\u001b[92m+ FileIO v1.16.0\u001b[39m\n",
      " \u001b[90m [033835bb] \u001b[39m\u001b[92m+ JLD2 v0.4.31\u001b[39m\n",
      "\u001b[32m\u001b[1mPrecompiling\u001b[22m\u001b[39m project...\n",
      "\u001b[32m  ✓ \u001b[39m\u001b[90mFileIO\u001b[39m\n",
      "\u001b[32m  ✓ \u001b[39mJLD2\n",
      "  2 dependencies successfully precompiled in 12 seconds. 374 already precompiled. 1 skipped during auto due to previous errors.\n"
     ]
    }
   ],
   "source": [
    "import Pkg; Pkg.add(\"JLD2\")"
   ]
  },
  {
   "cell_type": "code",
   "execution_count": 8,
   "metadata": {},
   "outputs": [],
   "source": [
    "include(\"SeqData.jl\")"
   ]
  },
  {
   "cell_type": "code",
   "execution_count": 14,
   "metadata": {},
   "outputs": [
    {
     "name": "stderr",
     "output_type": "stream",
     "text": [
      "\u001b[32m\u001b[1m  Activating\u001b[22m\u001b[39m project at `~/PhD/LANL/BloodFlowDiffProg/NPDEChaos/NPDEChaos`\n",
      "\u001b[33m\u001b[1m┌ \u001b[22m\u001b[39m\u001b[33m\u001b[1mWarning: \u001b[22m\u001b[39mThe active manifest file is an older format with no julia version entry. Dependencies may have been resolved with a different julia version.\n",
      "\u001b[33m\u001b[1m└ \u001b[22m\u001b[39m\u001b[90m@ ~/PhD/LANL/BloodFlowDiffProg/NPDEChaos/NPDEChaos/Manifest.toml:0\u001b[39m\n",
      "\u001b[32m\u001b[1m   Installed\u001b[22m\u001b[39m IrrationalConstants ─ v0.1.1\n",
      "\u001b[32m\u001b[1m   Installed\u001b[22m\u001b[39m IRTools ───────────── v0.4.4\n",
      "\u001b[32m\u001b[1m   Installed\u001b[22m\u001b[39m ColorTypes ────────── v0.11.0\n",
      "\u001b[32m\u001b[1m   Installed\u001b[22m\u001b[39m Adapt ─────────────── v3.3.1\n",
      "\u001b[32m\u001b[1m   Installed\u001b[22m\u001b[39m Rmath ─────────────── v0.7.0\n",
      "\u001b[32m\u001b[1m   Installed\u001b[22m\u001b[39m DiffRules ─────────── v1.5.0\n",
      "\u001b[32m\u001b[1m   Installed\u001b[22m\u001b[39m StatsFuns ─────────── v0.9.14\n",
      "\u001b[32m\u001b[1m   Installed\u001b[22m\u001b[39m Functors ──────────── v0.2.7\n",
      "\u001b[32m\u001b[1m   Installed\u001b[22m\u001b[39m Flux ──────────────── v0.12.8\n",
      "\u001b[32m\u001b[1m   Installed\u001b[22m\u001b[39m DiffResults ───────── v1.0.3\n",
      "\u001b[32m\u001b[1m   Installed\u001b[22m\u001b[39m Preferences ───────── v1.2.2\n",
      "\u001b[32m\u001b[1m   Installed\u001b[22m\u001b[39m DataAPI ───────────── v1.9.0\n",
      "\u001b[32m\u001b[1m   Installed\u001b[22m\u001b[39m PDMats ────────────── v0.11.5\n",
      "\u001b[32m\u001b[1m   Installed\u001b[22m\u001b[39m SpecialFunctions ──── v1.8.1\n",
      "\u001b[32m\u001b[1m   Installed\u001b[22m\u001b[39m NNlibCUDA ─────────── v0.1.10\n",
      "\u001b[32m\u001b[1m   Installed\u001b[22m\u001b[39m NNlib ─────────────── v0.7.31\n",
      "\u001b[32m\u001b[1m   Installed\u001b[22m\u001b[39m GPUCompiler ───────── v0.13.8\n",
      "\u001b[32m\u001b[1m   Installed\u001b[22m\u001b[39m ZipFile ───────────── v0.9.4\n",
      "\u001b[32m\u001b[1m   Installed\u001b[22m\u001b[39m TimerOutputs ──────── v0.5.13\n",
      "\u001b[32m\u001b[1m   Installed\u001b[22m\u001b[39m AbstractFFTs ──────── v1.0.1\n",
      "\u001b[32m\u001b[1m   Installed\u001b[22m\u001b[39m NaNMath ───────────── v0.3.5\n",
      "\u001b[32m\u001b[1m   Installed\u001b[22m\u001b[39m LLVMExtra_jll ─────── v0.0.13+0\n",
      "\u001b[32m\u001b[1m   Installed\u001b[22m\u001b[39m JLLWrappers ───────── v1.3.0\n",
      "\u001b[32m\u001b[1m   Installed\u001b[22m\u001b[39m StaticArrays ──────── v1.2.13\n",
      "\u001b[32m\u001b[1m   Installed\u001b[22m\u001b[39m OrderedCollections ── v1.4.1\n",
      "\u001b[32m\u001b[1m   Installed\u001b[22m\u001b[39m CEnum ─────────────── v0.4.1\n",
      "\u001b[32m\u001b[1m   Installed\u001b[22m\u001b[39m AbstractTrees ─────── v0.3.4\n",
      "\u001b[32m\u001b[1m   Installed\u001b[22m\u001b[39m BFloat16s ─────────── v0.2.0\n",
      "\u001b[32m\u001b[1m   Installed\u001b[22m\u001b[39m TranscodingStreams ── v0.9.6\n",
      "\u001b[32m\u001b[1m   Installed\u001b[22m\u001b[39m Random123 ─────────── v1.4.2\n",
      "\u001b[32m\u001b[1m   Installed\u001b[22m\u001b[39m ChainRulesCore ────── v1.11.1\n",
      "\u001b[32m\u001b[1m   Installed\u001b[22m\u001b[39m Rmath_jll ─────────── v0.3.0+0\n",
      "\u001b[32m\u001b[1m   Installed\u001b[22m\u001b[39m ArrayInterface ────── v3.2.1\n",
      "\u001b[32m\u001b[1m   Installed\u001b[22m\u001b[39m FillArrays ────────── v0.12.7\n",
      "\u001b[32m\u001b[1m   Installed\u001b[22m\u001b[39m QuadGK ────────────── v2.4.2\n",
      "\u001b[32m\u001b[1m   Installed\u001b[22m\u001b[39m ForwardDiff ───────── v0.10.23\n",
      "\u001b[32m\u001b[1m   Installed\u001b[22m\u001b[39m GPUArrays ─────────── v8.1.2\n",
      "\u001b[32m\u001b[1m   Installed\u001b[22m\u001b[39m DataStructures ────── v0.18.10\n",
      "\u001b[32m\u001b[1m   Installed\u001b[22m\u001b[39m ZygoteRules ───────── v0.2.2\n",
      "\u001b[32m\u001b[1m   Installed\u001b[22m\u001b[39m LogExpFunctions ───── v0.3.5\n",
      "\u001b[32m\u001b[1m   Installed\u001b[22m\u001b[39m Requires ──────────── v1.1.3\n",
      "\u001b[32m\u001b[1m   Installed\u001b[22m\u001b[39m Juno ──────────────── v0.8.4\n",
      "\u001b[32m\u001b[1m   Installed\u001b[22m\u001b[39m Colors ────────────── v0.12.8\n",
      "\u001b[32m\u001b[1m   Installed\u001b[22m\u001b[39m Distributions ─────── v0.25.34\n",
      "\u001b[32m\u001b[1m   Installed\u001b[22m\u001b[39m Zygote ────────────── v0.6.32\n",
      "\u001b[32m\u001b[1m   Installed\u001b[22m\u001b[39m ExprTools ─────────── v0.1.6\n",
      "\u001b[32m\u001b[1m   Installed\u001b[22m\u001b[39m Compat ────────────── v3.40.0\n",
      "\u001b[32m\u001b[1m   Installed\u001b[22m\u001b[39m StatsAPI ──────────── v1.1.0\n",
      "\u001b[32m\u001b[1m   Installed\u001b[22m\u001b[39m Static ────────────── v0.4.0\n",
      "\u001b[32m\u001b[1m   Installed\u001b[22m\u001b[39m InverseFunctions ──── v0.1.2\n",
      "\u001b[32m\u001b[1m   Installed\u001b[22m\u001b[39m MacroTools ────────── v0.5.9\n",
      "\u001b[32m\u001b[1m   Installed\u001b[22m\u001b[39m CodecZlib ─────────── v0.7.0\n",
      "\u001b[32m\u001b[1m   Installed\u001b[22m\u001b[39m SortingAlgorithms ─── v1.0.1\n",
      "\u001b[32m\u001b[1m   Installed\u001b[22m\u001b[39m Missings ──────────── v1.0.2\n",
      "\u001b[32m\u001b[1m   Installed\u001b[22m\u001b[39m ChangesOfVariables ── v0.1.1\n",
      "\u001b[32m\u001b[1m   Installed\u001b[22m\u001b[39m StatsBase ─────────── v0.33.13\n",
      "\u001b[32m\u001b[1m   Installed\u001b[22m\u001b[39m LLVM ──────────────── v4.7.0\n",
      "\u001b[32m\u001b[1m   Installed\u001b[22m\u001b[39m DocStringExtensions ─ v0.8.6\n",
      "\u001b[32m\u001b[1m   Installed\u001b[22m\u001b[39m CUDA ──────────────── v3.5.0\n",
      "\u001b[32m\u001b[1m   Installed\u001b[22m\u001b[39m ChainRules ────────── v1.14.0\n",
      "\u001b[32m\u001b[1m    Building\u001b[22m\u001b[39m Random123 → `~/anaconda3/envs/julia_env/share/julia/scratchspaces/44cfe95a-1eb2-52ea-b672-e2afdf69b78f/0e8b146557ad1c6deb1367655e052276690e71a3/build.log`\n",
      "\u001b[32m\u001b[1mPrecompiling\u001b[22m\u001b[39m project...\n",
      "\u001b[33m  ✓ \u001b[39m\u001b[90mDataAPI\u001b[39m\n",
      "\u001b[33m  ✓ \u001b[39m\u001b[90mExprTools\u001b[39m\n",
      "\u001b[33m  ✓ \u001b[39m\u001b[90mNaNMath\u001b[39m\n",
      "\u001b[33m  ✓ \u001b[39m\u001b[90mAdapt\u001b[39m\n",
      "\u001b[33m  ✓ \u001b[39m\u001b[90mInverseFunctions\u001b[39m\n",
      "\u001b[33m  ✓ \u001b[39m\u001b[90mRequires\u001b[39m\n",
      "\u001b[33m  ✓ \u001b[39m\u001b[90mAbstractFFTs\u001b[39m\n",
      "\u001b[33m  ✓ \u001b[39m\u001b[90mChangesOfVariables\u001b[39m\n",
      "\u001b[33m  ✓ \u001b[39m\u001b[90mAbstractTrees\u001b[39m\n",
      "\u001b[33m  ✓ \u001b[39m\u001b[90mDocStringExtensions\u001b[39m\n",
      "\u001b[33m  ✓ \u001b[39m\u001b[90mOrderedCollections\u001b[39m\n",
      "\u001b[33m  ✓ \u001b[39m\u001b[90mPDMats\u001b[39m\n",
      "\u001b[33m  ✓ \u001b[39m\u001b[90mStatsAPI\u001b[39m\n",
      "\u001b[33m  ✓ \u001b[39m\u001b[90mCompat\u001b[39m\n",
      "\u001b[33m  ✓ \u001b[39m\u001b[90mIrrationalConstants\u001b[39m\n",
      "\u001b[33m  ✓ \u001b[39m\u001b[90mBFloat16s\u001b[39m\n",
      "\u001b[33m  ✓ \u001b[39m\u001b[90mCEnum\u001b[39m\n",
      "\u001b[33m  ✓ \u001b[39m\u001b[90mPreferences\u001b[39m\n",
      "\u001b[33m  ✓ \u001b[39m\u001b[90mFunctors\u001b[39m\n",
      "\u001b[33m  ✓ \u001b[39m\u001b[90mMissings\u001b[39m\n",
      "\u001b[32m  ✓ \u001b[39m\u001b[90mZipFile\u001b[39m\n",
      "\u001b[33m  ✓ \u001b[39m\u001b[90mFillArrays\u001b[39m\n",
      "\u001b[33m  ✓ \u001b[39m\u001b[90mDensityInterface\u001b[39m\n",
      "\u001b[33m  ✓ \u001b[39m\u001b[90mStatic\u001b[39m\n",
      "\u001b[33m  ✓ \u001b[39m\u001b[90mTranscodingStreams\u001b[39m\n",
      "\u001b[33m  ✓ \u001b[39m\u001b[90mJLLWrappers\u001b[39m\n",
      "\u001b[33m  ✓ \u001b[39m\u001b[90mTimerOutputs\u001b[39m\n",
      "\u001b[33m  ✓ \u001b[39m\u001b[90mRandomNumbers\u001b[39m\n",
      "\u001b[32m  ✓ \u001b[39m\u001b[90mCodecZlib\u001b[39m\n",
      "\u001b[33m  ✓ \u001b[39m\u001b[90mOpenSpecFun_jll\u001b[39m\n",
      "\u001b[33m  ✓ \u001b[39m\u001b[90mRmath_jll\u001b[39m\n",
      "\u001b[33m  ✓ \u001b[39m\u001b[90mLLVMExtra_jll\u001b[39m\n",
      "\u001b[33m  ✓ \u001b[39m\u001b[90mRandom123\u001b[39m\n",
      "\u001b[33m  ✓ \u001b[39m\u001b[90mArrayInterface\u001b[39m\n",
      "\u001b[33m  ✓ \u001b[39m\u001b[90mMacroTools\u001b[39m\n",
      "\u001b[33m  ✓ \u001b[39m\u001b[90mChainRulesCore\u001b[39m\n",
      "\u001b[33m  ✓ \u001b[39m\u001b[90mRmath\u001b[39m\n",
      "\u001b[33m  ✓ \u001b[39m\u001b[90mGPUArrays\u001b[39m\n",
      "\u001b[33m  ✓ \u001b[39m\u001b[90mCommonSubexpressions\u001b[39m\n",
      "\u001b[32m  ✓ \u001b[39m\u001b[90mMedia\u001b[39m\n",
      "\u001b[33m  ✓ \u001b[39m\u001b[90mDataStructures\u001b[39m\n",
      "\u001b[91m  ✗ \u001b[39m\u001b[90mLLVM\u001b[39m\n",
      "\u001b[33m  ✓ \u001b[39m\u001b[90mZygoteRules\u001b[39m\n",
      "\u001b[33m  ✓ \u001b[39m\u001b[90mSortingAlgorithms\u001b[39m\n",
      "\u001b[33m  ✓ \u001b[39m\u001b[90mQuadGK\u001b[39m\n",
      "\u001b[32m  ✓ \u001b[39m\u001b[90mJuno\u001b[39m\n",
      "\u001b[33m  ✓ \u001b[39m\u001b[90mIRTools\u001b[39m\n",
      "\u001b[33m  ✓ \u001b[39m\u001b[90mLogExpFunctions\u001b[39m\n",
      "\u001b[91m  ✗ \u001b[39m\u001b[90mGPUCompiler\u001b[39m\n",
      "\u001b[33m  ✓ \u001b[39m\u001b[90mNNlib\u001b[39m\n",
      "\u001b[33m  ✓ \u001b[39m\u001b[90mStaticArrays\u001b[39m\n",
      "\u001b[33m  ✓ \u001b[39m\u001b[90mStatsBase\u001b[39m\n",
      "\u001b[33m  ✓ \u001b[39m\u001b[90mDiffResults\u001b[39m\n",
      "\u001b[33m  ✓ \u001b[39m\u001b[90mColorTypes\u001b[39m\n",
      "\u001b[33m  ✓ \u001b[39m\u001b[90mChainRules\u001b[39m\n",
      "\u001b[33m  ✓ \u001b[39m\u001b[90mSpecialFunctions\u001b[39m\n",
      "\u001b[33m  ✓ \u001b[39m\u001b[90mDiffRules\u001b[39m\n",
      "\u001b[33m  ✓ \u001b[39m\u001b[90mColors\u001b[39m\n",
      "\u001b[33m  ✓ \u001b[39m\u001b[90mStatsFuns\u001b[39m\n",
      "\u001b[91m  ✗ \u001b[39mCUDA\n",
      "\u001b[33m  ✓ \u001b[39m\u001b[90mForwardDiff\u001b[39m\n",
      "\u001b[33m  ✓ \u001b[39mDistributions\n",
      "\u001b[91m  ✗ \u001b[39m\u001b[90mNNlibCUDA\u001b[39m\n",
      "\u001b[33m  ✓ \u001b[39m\u001b[90mZygote\u001b[39m\n",
      "\u001b[91m  ✗ \u001b[39mFlux\n",
      "\u001b[91m  ✗ \u001b[39mSeqData\n",
      "  60 dependencies successfully precompiled in 31 seconds. 9 already precompiled.\n",
      "  \u001b[33m56\u001b[39m dependencies precompiled but different versions are currently loaded. Restart julia to access the new versions\n",
      "  \u001b[91m6\u001b[39m dependencies errored. To see a full report either run `import Pkg; Pkg.precompile()` or load the packages\n"
     ]
    }
   ],
   "source": [
    "using Pkg\n",
    "Pkg.activate(\".\")\n",
    "Pkg.instantiate()"
   ]
  },
  {
   "cell_type": "code",
   "execution_count": 16,
   "metadata": {},
   "outputs": [
    {
     "name": "stderr",
     "output_type": "stream",
     "text": [
      "\u001b[36m\u001b[1m[ \u001b[22m\u001b[39m\u001b[36m\u001b[1mInfo: \u001b[22m\u001b[39mPrecompiling SeqData [fa074d72-62c1-4b7f-bbce-533bec7673d9]\n",
      "WARNING: method definition for MaskedSequentialData at /home/hunor/PhD/LANL/BloodFlowDiffProg/NPDEChaos/NPDEChaos/src/masked_seq.jl:22 declares type variable T but does not use it.\n"
     ]
    }
   ],
   "source": [
    "using SeqData"
   ]
  },
  {
   "cell_type": "code",
   "execution_count": 18,
   "metadata": {},
   "outputs": [
    {
     "name": "stderr",
     "output_type": "stream",
     "text": [
      "\u001b[32m\u001b[1m   Resolving\u001b[22m\u001b[39m package versions...\n",
      "\u001b[32m\u001b[1m   Installed\u001b[22m\u001b[39m LLVMExtra_jll ─ v0.0.13+3\n",
      "\u001b[32m\u001b[1m   Installed\u001b[22m\u001b[39m BlockArrays ─── v0.16.11\n",
      "\u001b[32m\u001b[1m   Installed\u001b[22m\u001b[39m ArrayLayouts ── v0.7.10\n",
      "\u001b[33m\u001b[1m┌ \u001b[22m\u001b[39m\u001b[33m\u001b[1mWarning: \u001b[22m\u001b[39mThe active manifest file at `/home/hunor/PhD/LANL/BloodFlowDiffProg/NPDEChaos/NPDEChaos/Manifest.toml` has an old format that is being maintained.\n",
      "\u001b[33m\u001b[1m│ \u001b[22m\u001b[39mTo update to the new format, which is supported by Julia versions ≥ 1.6.2, run `Pkg.upgrade_manifest()` which will upgrade the format without re-resolving.\n",
      "\u001b[33m\u001b[1m│ \u001b[22m\u001b[39mTo then record the julia version re-resolve with `Pkg.resolve()` and if there are resolve conflicts consider `Pkg.update()`.\n",
      "\u001b[33m\u001b[1m└ \u001b[22m\u001b[39m\u001b[90m@ Pkg.Types /cache/build/default-amdci4-2/julialang/julia-release-1-dot-8/usr/share/julia/stdlib/v1.8/Pkg/src/manifest.jl:287\u001b[39m\n",
      "\u001b[32m\u001b[1m    Updating\u001b[22m\u001b[39m `~/PhD/LANL/BloodFlowDiffProg/NPDEChaos/NPDEChaos/Project.toml`\n",
      "\u001b[32m⌃\u001b[39m\u001b[90m [8e7c35d0] \u001b[39m\u001b[92m+ BlockArrays v0.16.11\u001b[39m\n",
      "\u001b[32m\u001b[1m    Updating\u001b[22m\u001b[39m `~/PhD/LANL/BloodFlowDiffProg/NPDEChaos/NPDEChaos/Manifest.toml`\n",
      "\u001b[33m⌅\u001b[39m\u001b[90m [4c555306] \u001b[39m\u001b[92m+ ArrayLayouts v0.7.10\u001b[39m\n",
      "\u001b[32m⌃\u001b[39m\u001b[90m [8e7c35d0] \u001b[39m\u001b[92m+ BlockArrays v0.16.11\u001b[39m\n",
      "\u001b[32m⌃\u001b[39m\u001b[90m [dad2f222] \u001b[39m\u001b[93m↑ LLVMExtra_jll v0.0.13+0 ⇒ v0.0.13+3\u001b[39m\n",
      " \u001b[90m [0dad84c5] \u001b[39m\u001b[93m~ ArgTools ⇒ v1.1.1\u001b[39m\n",
      " \u001b[90m [f43a241f] \u001b[39m\u001b[93m~ Downloads ⇒ v1.6.0\u001b[39m\n",
      " \u001b[90m [7b1f6079] \u001b[39m\u001b[92m+ FileWatching\u001b[39m\n",
      " \u001b[90m [b27032c2] \u001b[39m\u001b[93m~ LibCURL ⇒ v0.6.3\u001b[39m\n",
      " \u001b[90m [ca575930] \u001b[39m\u001b[93m~ NetworkOptions ⇒ v1.2.0\u001b[39m\n",
      " \u001b[90m [44cfe95a] \u001b[39m\u001b[93m~ Pkg ⇒ v1.8.0\u001b[39m\n",
      " \u001b[90m [ea8e919c] \u001b[39m\u001b[93m~ SHA ⇒ v0.7.0\u001b[39m\n",
      " \u001b[90m [fa267f1f] \u001b[39m\u001b[93m~ TOML ⇒ v1.0.0\u001b[39m\n",
      " \u001b[90m [a4e569a6] \u001b[39m\u001b[93m~ Tar ⇒ v1.10.1\u001b[39m\n",
      " \u001b[90m [e66e0078] \u001b[39m\u001b[93m~ CompilerSupportLibraries_jll ⇒ v1.0.1+0\u001b[39m\n",
      " \u001b[90m [deac9b47] \u001b[39m\u001b[93m~ LibCURL_jll ⇒ v7.84.0+0\u001b[39m\n",
      " \u001b[90m [29816b5a] \u001b[39m\u001b[93m~ LibSSH2_jll ⇒ v1.10.2+0\u001b[39m\n",
      " \u001b[90m [c8ffd9c3] \u001b[39m\u001b[93m~ MbedTLS_jll ⇒ v2.28.0+0\u001b[39m\n",
      " \u001b[90m [14a3606d] \u001b[39m\u001b[93m~ MozillaCACerts_jll ⇒ v2022.2.1\u001b[39m\n",
      " \u001b[90m [4536629a] \u001b[39m\u001b[92m+ OpenBLAS_jll v0.3.20+0\u001b[39m\n",
      " \u001b[90m [05823500] \u001b[39m\u001b[93m~ OpenLibm_jll ⇒ v0.8.1+0\u001b[39m\n",
      " \u001b[90m [83775a58] \u001b[39m\u001b[93m~ Zlib_jll ⇒ v1.2.12+3\u001b[39m\n",
      " \u001b[90m [8e850b90] \u001b[39m\u001b[92m+ libblastrampoline_jll v5.1.1+0\u001b[39m\n",
      " \u001b[90m [8e850ede] \u001b[39m\u001b[93m~ nghttp2_jll ⇒ v1.48.0+0\u001b[39m\n",
      " \u001b[90m [3f19e933] \u001b[39m\u001b[93m~ p7zip_jll ⇒ v17.4.0+0\u001b[39m\n",
      "\u001b[36m\u001b[1m        Info\u001b[22m\u001b[39m Packages marked with \u001b[32m⌃\u001b[39m and \u001b[33m⌅\u001b[39m have new versions available, but those with \u001b[33m⌅\u001b[39m are restricted by compatibility constraints from upgrading. To see why use `status --outdated -m`\n",
      "\u001b[32m\u001b[1mPrecompiling\u001b[22m\u001b[39m project...\n",
      "\u001b[33m  ✓ \u001b[39m\u001b[90mLLVMExtra_jll\u001b[39m\n",
      "\u001b[91m  ✗ \u001b[39m\u001b[90mLLVM\u001b[39m\n",
      "\u001b[32m  ✓ \u001b[39m\u001b[90mArrayLayouts\u001b[39m\n",
      "\u001b[32m  ✓ \u001b[39mBlockArrays\n",
      "\u001b[91m  ✗ \u001b[39mSeqData\n",
      "  3 dependencies successfully precompiled in 9 seconds. 70 already precompiled. 4 skipped during auto due to previous errors.\n",
      "  \u001b[33m1\u001b[39m dependency precompiled but a different version is currently loaded. Restart julia to access the new version\n",
      "  \u001b[91m2\u001b[39m dependencies errored. To see a full report either run `import Pkg; Pkg.precompile()` or load the packages\n"
     ]
    }
   ],
   "source": [
    "import Pkg; Pkg.add(\"BlockArrays\")"
   ]
  },
  {
   "cell_type": "code",
   "execution_count": 20,
   "metadata": {},
   "outputs": [
    {
     "name": "stderr",
     "output_type": "stream",
     "text": [
      "\u001b[32m\u001b[1m   Resolving\u001b[22m\u001b[39m package versions...\n",
      "\u001b[32m\u001b[1m    Updating\u001b[22m\u001b[39m `~/PhD/LANL/BloodFlowDiffProg/NPDEChaos/NPDEChaos/Project.toml`\n",
      " \u001b[90m [90137ffa] \u001b[39m\u001b[92m+ StaticArrays v1.5.24\u001b[39m\n",
      "\u001b[32m\u001b[1m    Updating\u001b[22m\u001b[39m `~/PhD/LANL/BloodFlowDiffProg/NPDEChaos/NPDEChaos/Manifest.toml`\n",
      " \u001b[90m [90137ffa] \u001b[39m\u001b[93m↑ StaticArrays v1.2.13 ⇒ v1.5.24\u001b[39m\n",
      " \u001b[90m [1e83bf80] \u001b[39m\u001b[92m+ StaticArraysCore v1.4.0\u001b[39m\n"
     ]
    }
   ],
   "source": [
    "import Pkg; Pkg.add(\"StaticArrays\")"
   ]
  },
  {
   "cell_type": "code",
   "execution_count": 22,
   "metadata": {},
   "outputs": [
    {
     "name": "stderr",
     "output_type": "stream",
     "text": [
      "\u001b[32m\u001b[1m   Resolving\u001b[22m\u001b[39m package versions...\n",
      "\u001b[32m\u001b[1m   Installed\u001b[22m\u001b[39m BenchmarkTools ─ v1.3.2\n",
      "\u001b[32m\u001b[1m    Updating\u001b[22m\u001b[39m `~/PhD/LANL/BloodFlowDiffProg/NPDEChaos/NPDEChaos/Project.toml`\n",
      " \u001b[90m [6e4b80f9] \u001b[39m\u001b[92m+ BenchmarkTools v1.3.2\u001b[39m\n",
      "\u001b[32m\u001b[1m    Updating\u001b[22m\u001b[39m `~/PhD/LANL/BloodFlowDiffProg/NPDEChaos/NPDEChaos/Manifest.toml`\n",
      " \u001b[90m [6e4b80f9] \u001b[39m\u001b[92m+ BenchmarkTools v1.3.2\u001b[39m\n",
      " \u001b[90m [682c06a0] \u001b[39m\u001b[92m+ JSON v0.21.4\u001b[39m\n",
      " \u001b[90m [69de0a69] \u001b[39m\u001b[92m+ Parsers v2.5.8\u001b[39m\n",
      " \u001b[90m [66db9d55] \u001b[39m\u001b[92m+ SnoopPrecompile v1.0.3\u001b[39m\n",
      "\u001b[32m\u001b[1mPrecompiling\u001b[22m\u001b[39m project...\n",
      "\u001b[32m  ✓ \u001b[39mBenchmarkTools\n",
      "\u001b[91m  ✗ \u001b[39mSeqData\n",
      "  1 dependency successfully precompiled in 15 seconds. 77 already precompiled. 5 skipped during auto due to previous errors.\n",
      "  \u001b[91m1\u001b[39m dependency errored. To see a full report either run `import Pkg; Pkg.precompile()` or load the package\n"
     ]
    }
   ],
   "source": [
    "Pkg.add(\"BenchmarkTools\")"
   ]
  },
  {
   "cell_type": "code",
   "execution_count": 24,
   "metadata": {},
   "outputs": [
    {
     "name": "stderr",
     "output_type": "stream",
     "text": [
      "\u001b[32m\u001b[1m   Resolving\u001b[22m\u001b[39m package versions...\n"
     ]
    },
    {
     "ename": "LoadError",
     "evalue": "Unsatisfiable requirements detected for package \u001b[38;5;14mCuArrays [3a865a2d]\u001b[39m:\n \u001b[38;5;14mCuArrays [3a865a2d]\u001b[39m log:\n ├─possible versions are: \u001b[38;5;14m0.2.1-2.2.2\u001b[39m or uninstalled\n ├─restricted to versions \u001b[38;5;14m*\u001b[39m by an explicit requirement, leaving only versions \u001b[38;5;14m0.2.1-2.2.2\u001b[39m\n └─restricted by julia compatibility requirements to versions: uninstalled — no versions left",
     "output_type": "error",
     "traceback": [
      "Unsatisfiable requirements detected for package \u001b[38;5;14mCuArrays [3a865a2d]\u001b[39m:\n \u001b[38;5;14mCuArrays [3a865a2d]\u001b[39m log:\n ├─possible versions are: \u001b[38;5;14m0.2.1-2.2.2\u001b[39m or uninstalled\n ├─restricted to versions \u001b[38;5;14m*\u001b[39m by an explicit requirement, leaving only versions \u001b[38;5;14m0.2.1-2.2.2\u001b[39m\n └─restricted by julia compatibility requirements to versions: uninstalled — no versions left",
      "",
      "Stacktrace:",
      "  [1] propagate_constraints!(graph::Pkg.Resolve.Graph, sources::Set{Int64}; log_events::Bool)",
      "    @ Pkg.Resolve ~/.julia/juliaup/julia-1.8.5+0.x64.linux.gnu/share/julia/stdlib/v1.8/Pkg/src/Resolve/graphtype.jl:1072",
      "  [2] propagate_constraints! (repeats 2 times)",
      "    @ ~/.julia/juliaup/julia-1.8.5+0.x64.linux.gnu/share/julia/stdlib/v1.8/Pkg/src/Resolve/graphtype.jl:1008 [inlined]",
      "  [3] simplify_graph!(graph::Pkg.Resolve.Graph, sources::Set{Int64}; clean_graph::Bool)",
      "    @ Pkg.Resolve ~/.julia/juliaup/julia-1.8.5+0.x64.linux.gnu/share/julia/stdlib/v1.8/Pkg/src/Resolve/graphtype.jl:1533",
      "  [4] simplify_graph! (repeats 2 times)",
      "    @ ~/.julia/juliaup/julia-1.8.5+0.x64.linux.gnu/share/julia/stdlib/v1.8/Pkg/src/Resolve/graphtype.jl:1532 [inlined]",
      "  [5] resolve_versions!(env::Pkg.Types.EnvCache, registries::Vector{Pkg.Registry.RegistryInstance}, pkgs::Vector{Pkg.Types.PackageSpec}, julia_version::VersionNumber)",
      "    @ Pkg.Operations ~/.julia/juliaup/julia-1.8.5+0.x64.linux.gnu/share/julia/stdlib/v1.8/Pkg/src/Operations.jl:352",
      "  [6] targeted_resolve(env::Pkg.Types.EnvCache, registries::Vector{Pkg.Registry.RegistryInstance}, pkgs::Vector{Pkg.Types.PackageSpec}, preserve::Pkg.Types.PreserveLevel, julia_version::VersionNumber)",
      "    @ Pkg.Operations ~/.julia/juliaup/julia-1.8.5+0.x64.linux.gnu/share/julia/stdlib/v1.8/Pkg/src/Operations.jl:1254",
      "  [7] tiered_resolve(env::Pkg.Types.EnvCache, registries::Vector{Pkg.Registry.RegistryInstance}, pkgs::Vector{Pkg.Types.PackageSpec}, julia_version::VersionNumber)",
      "    @ Pkg.Operations ~/.julia/juliaup/julia-1.8.5+0.x64.linux.gnu/share/julia/stdlib/v1.8/Pkg/src/Operations.jl:1239",
      "  [8] _resolve(io::IJulia.IJuliaStdio{Base.PipeEndpoint}, env::Pkg.Types.EnvCache, registries::Vector{Pkg.Registry.RegistryInstance}, pkgs::Vector{Pkg.Types.PackageSpec}, preserve::Pkg.Types.PreserveLevel, julia_version::VersionNumber)",
      "    @ Pkg.Operations ~/.julia/juliaup/julia-1.8.5+0.x64.linux.gnu/share/julia/stdlib/v1.8/Pkg/src/Operations.jl:1260",
      "  [9] add(ctx::Pkg.Types.Context, pkgs::Vector{Pkg.Types.PackageSpec}, new_git::Set{Base.UUID}; preserve::Pkg.Types.PreserveLevel, platform::Base.BinaryPlatforms.Platform)",
      "    @ Pkg.Operations ~/.julia/juliaup/julia-1.8.5+0.x64.linux.gnu/share/julia/stdlib/v1.8/Pkg/src/Operations.jl:1276",
      " [10] add(ctx::Pkg.Types.Context, pkgs::Vector{Pkg.Types.PackageSpec}; preserve::Pkg.Types.PreserveLevel, platform::Base.BinaryPlatforms.Platform, kwargs::Base.Pairs{Symbol, IJulia.IJuliaStdio{Base.PipeEndpoint}, Tuple{Symbol}, NamedTuple{(:io,), Tuple{IJulia.IJuliaStdio{Base.PipeEndpoint}}}})",
      "    @ Pkg.API ~/.julia/juliaup/julia-1.8.5+0.x64.linux.gnu/share/julia/stdlib/v1.8/Pkg/src/API.jl:275",
      " [11] add(pkgs::Vector{Pkg.Types.PackageSpec}; io::IJulia.IJuliaStdio{Base.PipeEndpoint}, kwargs::Base.Pairs{Symbol, Union{}, Tuple{}, NamedTuple{(), Tuple{}}})",
      "    @ Pkg.API ~/.julia/juliaup/julia-1.8.5+0.x64.linux.gnu/share/julia/stdlib/v1.8/Pkg/src/API.jl:156",
      " [12] add(pkgs::Vector{Pkg.Types.PackageSpec})",
      "    @ Pkg.API ~/.julia/juliaup/julia-1.8.5+0.x64.linux.gnu/share/julia/stdlib/v1.8/Pkg/src/API.jl:145",
      " [13] #add#27",
      "    @ ~/.julia/juliaup/julia-1.8.5+0.x64.linux.gnu/share/julia/stdlib/v1.8/Pkg/src/API.jl:144 [inlined]",
      " [14] add",
      "    @ ~/.julia/juliaup/julia-1.8.5+0.x64.linux.gnu/share/julia/stdlib/v1.8/Pkg/src/API.jl:144 [inlined]",
      " [15] #add#26",
      "    @ ~/.julia/juliaup/julia-1.8.5+0.x64.linux.gnu/share/julia/stdlib/v1.8/Pkg/src/API.jl:143 [inlined]",
      " [16] add(pkg::String)",
      "    @ Pkg.API ~/.julia/juliaup/julia-1.8.5+0.x64.linux.gnu/share/julia/stdlib/v1.8/Pkg/src/API.jl:143",
      " [17] top-level scope",
      "    @ In[24]:1"
     ]
    }
   ],
   "source": [
    "Pkg.add(\"CuArrays\")"
   ]
  },
  {
   "cell_type": "code",
   "execution_count": 26,
   "metadata": {},
   "outputs": [
    {
     "name": "stderr",
     "output_type": "stream",
     "text": [
      "\u001b[32m\u001b[1m   Resolving\u001b[22m\u001b[39m package versions...\n",
      "\u001b[32m\u001b[1m    Updating\u001b[22m\u001b[39m `~/PhD/LANL/BloodFlowDiffProg/NPDEChaos/NPDEChaos/Project.toml`\n",
      " \u001b[90m [35d6a980] \u001b[39m\u001b[92m+ ColorSchemes v3.21.0\u001b[39m\n",
      "\u001b[32m\u001b[1m    Updating\u001b[22m\u001b[39m `~/PhD/LANL/BloodFlowDiffProg/NPDEChaos/NPDEChaos/Manifest.toml`\n",
      " \u001b[90m [35d6a980] \u001b[39m\u001b[92m+ ColorSchemes v3.21.0\u001b[39m\n",
      " \u001b[90m [c3611d14] \u001b[39m\u001b[92m+ ColorVectorSpace v0.9.10\u001b[39m\n",
      " \u001b[90m [aea7be01] \u001b[39m\u001b[92m+ PrecompileTools v1.0.2\u001b[39m\n",
      " \u001b[90m [62fd8b95] \u001b[39m\u001b[92m+ TensorCore v0.1.1\u001b[39m\n"
     ]
    }
   ],
   "source": [
    "Pkg.add(\"ColorSchemes\")"
   ]
  },
  {
   "cell_type": "code",
   "execution_count": 34,
   "metadata": {},
   "outputs": [
    {
     "data": {
      "text/plain": [
       "false"
      ]
     },
     "execution_count": 34,
     "metadata": {},
     "output_type": "execute_result"
    }
   ],
   "source": [
    "begin\n",
    "    using Plots\n",
    "    using DiffEqFlux\n",
    "    using OrdinaryDiffEq\n",
    "    using Flux\n",
    "    using Optim\n",
    "    using JLD2\n",
    "    using Zygote\n",
    "    using SeqData\n",
    "    using BlockArrays\n",
    "    using LinearAlgebra\n",
    "    using StaticArrays\n",
    "    using BenchmarkTools\n",
    "    using SparseArrays\n",
    "    import LinearAlgebra.mul!\n",
    "    using Distributions\n",
    "    #using CuArrays\n",
    "    #using CUDA\n",
    "end\n",
    "\n",
    "begin\n",
    "    using ColorSchemes\n",
    "    cs_diverging = cgrad(:BrBG_11)\n",
    "    cs_normal = cgrad(:GnBu_9)\n",
    "end\n",
    "\n",
    "dt = 0.1\n",
    "TRAIN = true\n",
    "cluster = false\n",
    "PLOT = true\n",
    "EVAL = false"
   ]
  },
  {
   "cell_type": "code",
   "execution_count": 38,
   "metadata": {},
   "outputs": [
    {
     "data": {
      "text/plain": [
       "true"
      ]
     },
     "execution_count": 38,
     "metadata": {},
     "output_type": "execute_result"
    }
   ],
   "source": [
    "if cluster\n",
    "    N_epochs = parse(Int, ARGS[3])\n",
    "    SAVE_NAME = ARGS[2]\n",
    "    gpu_type = parse(Int, ARGS[1])\n",
    "\n",
    "    if length(ARGS) > 3\n",
    "        LYAPUNOV = parse(Int, ARGS[4])\n",
    "    else\n",
    "        LYAPUNOV = 0\n",
    "    end\n",
    "    LYAPUNOV = (LYAPUNOV == 1) ? true : false\n",
    "\n",
    "    if length(ARGS) > 4\n",
    "        long_integration = parse(Int, ARGS[5])\n",
    "    else\n",
    "        long_integration = 0\n",
    "    end\n",
    "    LONG_INTEGRATION = long_integration == 1 ? true : false\n",
    "\n",
    "    if length(ARGS) > 5\n",
    "        N_t = parse(Int, ARGS[6])\n",
    "    else\n",
    "        N_t = 2500\n",
    "    end\n",
    "\n",
    "    if length(ARGS) > 6\n",
    "        τ_max = parse(Int, ARGS[7])\n",
    "    else\n",
    "        τ_max = 15\n",
    "    end\n",
    "\n",
    "    if length(ARGS) > 7\n",
    "        RELOAD = parse(Int, ARGS[8])\n",
    "    else\n",
    "        RELOAD = 0\n",
    "    end\n",
    "    RELOAD = RELOAD == 1 ? true : false\n",
    "\n",
    "    if gpu_type == 1\n",
    "        GPU = true\n",
    "    else gpu_type == 2\n",
    "        GPU = false\n",
    "    end\n",
    "\n",
    "    LOAD_DATA = false\n",
    "\n",
    "    if LYAPUNOV\n",
    "        TRAIN = false\n",
    "        LOAD_DATA = true\n",
    "    end\n",
    "    STAB_NOISE_STD = 0.0\n",
    "    N_WEIGHTS = 10\n",
    "\n",
    "    if RELOAD\n",
    "        LOAD_DATA = true\n",
    "    end\n",
    "\n",
    "else\n",
    "    GPU = false\n",
    "    SAVE_NAME = \"train_ks_gpu-tau1-4096-Nt25-convtest-cuda90\"\n",
    "    #SAVE_NAME = \"train_ks_gpu-tau1-4096-Nt50\"\n",
    "    #SAVE_NAME = \"train_ks_gpu-tau1-4096-Nt25\"\n",
    "    N_epochs = 10\n",
    "    LOAD_DATA = false\n",
    "    LYAPUNOV = false\n",
    "    N_t = 100\n",
    "    STAB_NOISE_STD = 0.0\n",
    "    N_WEIGHTS = 10\n",
    "    LONG_INTEGRATION = false\n",
    "    τ_max = 1\n",
    "    RELOAD = false\n",
    "end\n",
    "COMPUTE_DATA = !(LOAD_DATA)"
   ]
  },
  {
   "cell_type": "code",
   "execution_count": 39,
   "metadata": {},
   "outputs": [
    {
     "data": {
      "text/plain": [
       "false"
      ]
     },
     "execution_count": 39,
     "metadata": {},
     "output_type": "execute_result"
    }
   ],
   "source": [
    "LOAD_DATA"
   ]
  },
  {
   "cell_type": "code",
   "execution_count": 40,
   "metadata": {},
   "outputs": [],
   "source": [
    "N_t_train = N_t\n",
    "N_t_valid = 8000\n",
    "N_t = N_t_train + N_t_valid + 1000\n",
    "# do hyperparameter load / save up\n",
    "\n",
    "\n",
    "n = 4096\n",
    "#n = 2048\n",
    "#L = 580\n",
    "L = 1160\n",
    "#n = 8192\n",
    "#L = 2320\n",
    "\n",
    "\n",
    "if GPU\n",
    "    using CuArrays\n",
    "    using CuArrays.CUSPARSE\n",
    "    LinearAlgebra.mul!(C::CuVector{T},adjA::Adjoint{<:Any,<:CuSparseMatrix},B::CuVector) where {T} = mv!('C',one(T),parent(adjA),B,zero(T),C,'O')\n",
    "    #using CUDA\n",
    "    #using CUDA.CUSPARSE\n",
    "end"
   ]
  },
  {
   "cell_type": "code",
   "execution_count": 41,
   "metadata": {},
   "outputs": [
    {
     "name": "stdout",
     "output_type": "stream",
     "text": [
      "solving....\n",
      "--------\n",
      "Hyperparameter Overview\n",
      "n=4096, L=1160, dt=0.1, N_t=9100, N_t_train=100, N_t_valid=8000 , t_start=200.0, t_end=1110.0, N_epochs=10, LONG_INTEGRATION=false, STAB_NOISE_STD=0.0, N_WEIGHTS=10 tau_max=1\n",
      "--------\n",
      "finished setting up/loading the data\n"
     ]
    }
   ],
   "source": [
    "if !LOAD_DATA\n",
    "    include(\"scripts/ks_fd.jl\")\n",
    "\n",
    "    @save string(SAVE_NAME,\"-hyper.jld2\") n L dt N_t N_t_train N_t_valid t_start t_end N_epochs LONG_INTEGRATION STAB_NOISE_STD N_WEIGHTS τ_max\n",
    "\n",
    "    @save string(SAVE_NAME,\"-data.jld2\") dat\n",
    "    #old save @save string(SAVE_NAME,\"-data.jld2\") dat_reim n dx lap t_end\n",
    "\n",
    "    @save string(SAVE_NAME,\"-prob.jld2\") prob\n",
    "else\n",
    "    @load string(SAVE_NAME,\"-hyper.jld2\") n L dt N_t N_t_train N_t_valid t_start t_end N_epochs LONG_INTEGRATION STAB_NOISE_STD N_WEIGHTS τ_max\n",
    "\n",
    "    include(\"scripts/ks_fd.jl\")\n",
    "    @load string(SAVE_NAME,\"-data.jld2\") dat\n",
    "    @load string(SAVE_NAME,\"-prob.jld2\") prob\n",
    "\n",
    "    if RELOAD\n",
    "        @load string(SAVE_NAME,\"-pars.jld2\") pars\n",
    "        pars = gpu(pars)\n",
    "        println(\"Loaded parameters from old training run.\")\n",
    "    end\n",
    "\n",
    "end\n",
    "const n_weights = N_WEIGHTS\n",
    "\n",
    "println(\"--------\")\n",
    "println(\"Hyperparameter Overview\")\n",
    "println(\"n=\", n, \", L=\",L,\", dt=\",dt,\", N_t=\", N_t,\", N_t_train=\",N_t_train,\", N_t_valid=\",N_t_valid,\" , t_start=\",t_start,\", t_end=\",t_end,\", N_epochs=\",N_epochs,\", LONG_INTEGRATION=\",LONG_INTEGRATION,\", STAB_NOISE_STD=\",STAB_NOISE_STD,\", N_WEIGHTS=\",N_WEIGHTS, \" tau_max=\",τ_max)\n",
    "println(\"--------\")\n",
    "\n",
    "println(\"finished setting up/loading the data\")"
   ]
  },
  {
   "cell_type": "code",
   "execution_count": 44,
   "metadata": {},
   "outputs": [
    {
     "name": "stderr",
     "output_type": "stream",
     "text": [
      "\u001b[32m\u001b[1m   Resolving\u001b[22m\u001b[39m package versions...\n"
     ]
    },
    {
     "ename": "LoadError",
     "evalue": "Unsatisfiable requirements detected for package \u001b[38;5;14mCuArrays [3a865a2d]\u001b[39m:\n \u001b[38;5;14mCuArrays [3a865a2d]\u001b[39m log:\n ├─possible versions are: \u001b[38;5;14m0.2.1-2.2.2\u001b[39m or uninstalled\n ├─restricted to versions \u001b[38;5;14m*\u001b[39m by an explicit requirement, leaving only versions \u001b[38;5;14m0.2.1-2.2.2\u001b[39m\n └─restricted by julia compatibility requirements to versions: uninstalled — no versions left",
     "output_type": "error",
     "traceback": [
      "Unsatisfiable requirements detected for package \u001b[38;5;14mCuArrays [3a865a2d]\u001b[39m:\n \u001b[38;5;14mCuArrays [3a865a2d]\u001b[39m log:\n ├─possible versions are: \u001b[38;5;14m0.2.1-2.2.2\u001b[39m or uninstalled\n ├─restricted to versions \u001b[38;5;14m*\u001b[39m by an explicit requirement, leaving only versions \u001b[38;5;14m0.2.1-2.2.2\u001b[39m\n └─restricted by julia compatibility requirements to versions: uninstalled — no versions left",
      "",
      "Stacktrace:",
      "  [1] propagate_constraints!(graph::Pkg.Resolve.Graph, sources::Set{Int64}; log_events::Bool)",
      "    @ Pkg.Resolve ~/.julia/juliaup/julia-1.8.5+0.x64.linux.gnu/share/julia/stdlib/v1.8/Pkg/src/Resolve/graphtype.jl:1072",
      "  [2] propagate_constraints! (repeats 2 times)",
      "    @ ~/.julia/juliaup/julia-1.8.5+0.x64.linux.gnu/share/julia/stdlib/v1.8/Pkg/src/Resolve/graphtype.jl:1008 [inlined]",
      "  [3] simplify_graph!(graph::Pkg.Resolve.Graph, sources::Set{Int64}; clean_graph::Bool)",
      "    @ Pkg.Resolve ~/.julia/juliaup/julia-1.8.5+0.x64.linux.gnu/share/julia/stdlib/v1.8/Pkg/src/Resolve/graphtype.jl:1533",
      "  [4] simplify_graph! (repeats 2 times)",
      "    @ ~/.julia/juliaup/julia-1.8.5+0.x64.linux.gnu/share/julia/stdlib/v1.8/Pkg/src/Resolve/graphtype.jl:1532 [inlined]",
      "  [5] resolve_versions!(env::Pkg.Types.EnvCache, registries::Vector{Pkg.Registry.RegistryInstance}, pkgs::Vector{Pkg.Types.PackageSpec}, julia_version::VersionNumber)",
      "    @ Pkg.Operations ~/.julia/juliaup/julia-1.8.5+0.x64.linux.gnu/share/julia/stdlib/v1.8/Pkg/src/Operations.jl:352",
      "  [6] targeted_resolve(env::Pkg.Types.EnvCache, registries::Vector{Pkg.Registry.RegistryInstance}, pkgs::Vector{Pkg.Types.PackageSpec}, preserve::Pkg.Types.PreserveLevel, julia_version::VersionNumber)",
      "    @ Pkg.Operations ~/.julia/juliaup/julia-1.8.5+0.x64.linux.gnu/share/julia/stdlib/v1.8/Pkg/src/Operations.jl:1254",
      "  [7] tiered_resolve(env::Pkg.Types.EnvCache, registries::Vector{Pkg.Registry.RegistryInstance}, pkgs::Vector{Pkg.Types.PackageSpec}, julia_version::VersionNumber)",
      "    @ Pkg.Operations ~/.julia/juliaup/julia-1.8.5+0.x64.linux.gnu/share/julia/stdlib/v1.8/Pkg/src/Operations.jl:1239",
      "  [8] _resolve(io::IJulia.IJuliaStdio{Base.PipeEndpoint}, env::Pkg.Types.EnvCache, registries::Vector{Pkg.Registry.RegistryInstance}, pkgs::Vector{Pkg.Types.PackageSpec}, preserve::Pkg.Types.PreserveLevel, julia_version::VersionNumber)",
      "    @ Pkg.Operations ~/.julia/juliaup/julia-1.8.5+0.x64.linux.gnu/share/julia/stdlib/v1.8/Pkg/src/Operations.jl:1260",
      "  [9] add(ctx::Pkg.Types.Context, pkgs::Vector{Pkg.Types.PackageSpec}, new_git::Set{Base.UUID}; preserve::Pkg.Types.PreserveLevel, platform::Base.BinaryPlatforms.Platform)",
      "    @ Pkg.Operations ~/.julia/juliaup/julia-1.8.5+0.x64.linux.gnu/share/julia/stdlib/v1.8/Pkg/src/Operations.jl:1276",
      " [10] add(ctx::Pkg.Types.Context, pkgs::Vector{Pkg.Types.PackageSpec}; preserve::Pkg.Types.PreserveLevel, platform::Base.BinaryPlatforms.Platform, kwargs::Base.Pairs{Symbol, IJulia.IJuliaStdio{Base.PipeEndpoint}, Tuple{Symbol}, NamedTuple{(:io,), Tuple{IJulia.IJuliaStdio{Base.PipeEndpoint}}}})",
      "    @ Pkg.API ~/.julia/juliaup/julia-1.8.5+0.x64.linux.gnu/share/julia/stdlib/v1.8/Pkg/src/API.jl:275",
      " [11] add(pkgs::Vector{Pkg.Types.PackageSpec}; io::IJulia.IJuliaStdio{Base.PipeEndpoint}, kwargs::Base.Pairs{Symbol, Union{}, Tuple{}, NamedTuple{(), Tuple{}}})",
      "    @ Pkg.API ~/.julia/juliaup/julia-1.8.5+0.x64.linux.gnu/share/julia/stdlib/v1.8/Pkg/src/API.jl:156",
      " [12] add(pkgs::Vector{Pkg.Types.PackageSpec})",
      "    @ Pkg.API ~/.julia/juliaup/julia-1.8.5+0.x64.linux.gnu/share/julia/stdlib/v1.8/Pkg/src/API.jl:145",
      " [13] #add#27",
      "    @ ~/.julia/juliaup/julia-1.8.5+0.x64.linux.gnu/share/julia/stdlib/v1.8/Pkg/src/API.jl:144 [inlined]",
      " [14] add",
      "    @ ~/.julia/juliaup/julia-1.8.5+0.x64.linux.gnu/share/julia/stdlib/v1.8/Pkg/src/API.jl:144 [inlined]",
      " [15] #add#26",
      "    @ ~/.julia/juliaup/julia-1.8.5+0.x64.linux.gnu/share/julia/stdlib/v1.8/Pkg/src/API.jl:143 [inlined]",
      " [16] add(pkg::String)",
      "    @ Pkg.API ~/.julia/juliaup/julia-1.8.5+0.x64.linux.gnu/share/julia/stdlib/v1.8/Pkg/src/API.jl:143",
      " [17] top-level scope",
      "    @ In[44]:1"
     ]
    }
   ],
   "source": [
    "import Pkg; Pkg.add(\"CuArrays\")"
   ]
  },
  {
   "cell_type": "code",
   "execution_count": 47,
   "metadata": {},
   "outputs": [
    {
     "ename": "LoadError",
     "evalue": "LoadError: UndefVarError: CuArray not defined\nin expression starting at /home/hunor/PhD/LANL/BloodFlowDiffProg/NPDEChaos/NPDEChaos/scripts/nn_tools.jl:105",
     "output_type": "error",
     "traceback": [
      "LoadError: UndefVarError: CuArray not defined\nin expression starting at /home/hunor/PhD/LANL/BloodFlowDiffProg/NPDEChaos/NPDEChaos/scripts/nn_tools.jl:105",
      "",
      "Stacktrace:",
      " [1] top-level scope",
      "   @ ~/PhD/LANL/BloodFlowDiffProg/NPDEChaos/NPDEChaos/scripts/nn_tools.jl:105",
      " [2] include(fname::String)",
      "   @ Base.MainInclude ./client.jl:476",
      " [3] top-level scope",
      "   @ In[47]:29"
     ]
    }
   ],
   "source": [
    "const Ndim = n\n",
    "\n",
    "function fd_derivative(n,dx::T) where T<:Number\n",
    "  ∂x = (diagm(1=>ones(n-1)) + diagm(-1=>-1*ones(n-1)))\n",
    "  ∂x[1,end] = -1\n",
    "  ∂x[end,1] = 1\n",
    "  ∂x ./= (2*dx)\n",
    "  sparse(T.(∂x))\n",
    "end\n",
    "\n",
    "if GPU\n",
    "#     P = CuArray(ones(Float32,1,Ndim))\n",
    "#     ∂x = CuArrays.CUSPARSE.CuSparseMatrixCSC(fd_derivative(n, Float32(dx)))\n",
    "#     ∂x2 = CuArrays.CUSPARSE.CuSparseMatrixCSC(Float32.(∂x2))\n",
    "#     m∂x4 = CuArrays.CUSPARSE.CuSparseMatrixCSC(Float32.(-∂x4))\n",
    "\n",
    "\n",
    "    #∂x = CUSPARSE.switch2bsr(∂x,convert(Cint,16))\n",
    "    #∂x2 = CUSPARSE.switch2bsr(∂x2,convert(Cint,16))\n",
    "    #m∂x4 = CUSPARSE.switch2bsr(m∂x4,convert(Cint,16))\n",
    "\n",
    "else\n",
    "    P = ones(Float32,1,Ndim)\n",
    "    ∂x = fd_derivative(n, Float32(dx))\n",
    "    ∂x2 = Float32.(∂x2)\n",
    "    m∂x4 = Float32.(-∂x4)\n",
    "end\n",
    "\n",
    "include(\"scripts/nn_tools.jl\")"
   ]
  },
  {
   "cell_type": "code",
   "execution_count": null,
   "metadata": {},
   "outputs": [],
   "source": []
  }
 ],
 "metadata": {
  "kernelspec": {
   "display_name": "Julia 1.8.5",
   "language": "julia",
   "name": "julia-1.8"
  },
  "language_info": {
   "file_extension": ".jl",
   "mimetype": "application/julia",
   "name": "julia",
   "version": "1.8.5"
  }
 },
 "nbformat": 4,
 "nbformat_minor": 4
}
